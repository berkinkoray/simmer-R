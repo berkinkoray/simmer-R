{
  "nbformat": 4,
  "nbformat_minor": 0,
  "metadata": {
    "colab": {
      "provenance": []
    },
    "kernelspec": {
      "name": "ir",
      "display_name": "R"
    },
    "language_info": {
      "name": "R"
    }
  },
  "cells": [
    {
      "cell_type": "markdown",
      "source": [
        "# R-Simmer\n",
        "## Cafe Sim\n",
        "The required `simmer` package, which is used for discrete-event simulation installed. `simmer` and `parallel` libraries were loaded."
      ],
      "metadata": {
        "id": "0z6Yd7lJ3vca"
      }
    },
    {
      "cell_type": "markdown",
      "source": [
        "### 1. Install and Import Libraries"
      ],
      "metadata": {
        "id": "kjOS84rw8DRt"
      }
    },
    {
      "cell_type": "code",
      "execution_count": 8,
      "metadata": {
        "colab": {
          "base_uri": "https://localhost:8080/"
        },
        "id": "XU1uwF9u0xPi",
        "outputId": "4e3b2ce7-224d-465c-f9bf-0a53c778ebc8"
      },
      "outputs": [
        {
          "output_type": "stream",
          "name": "stderr",
          "text": [
            "Installing package into ‘/usr/local/lib/R/site-library’\n",
            "(as ‘lib’ is unspecified)\n",
            "\n"
          ]
        }
      ],
      "source": [
        "# Install required package\n",
        "install.packages(\"simmer\")\n",
        "\n",
        "library(simmer) # Simmer package imported\n",
        "library(parallel) # Import to parallelize"
      ]
    },
    {
      "cell_type": "markdown",
      "source": [
        "### 2. Barista and Service Time\n",
        "The parameters for service times, mean (`M_order` and `M_barista`) defined with reasonable numbers to generate order and service time."
      ],
      "metadata": {
        "id": "tkckKHAT5NyG"
      }
    },
    {
      "cell_type": "code",
      "source": [
        "# Number of baristas\n",
        "num_baristas <- 2\n",
        "\n",
        "# Parameters for service times (mean and standard deviation)\n",
        "SD_order <- 0.2\n",
        "M_order <- 0.1\n",
        "SD_barista <- 0.5\n",
        "M_barista <- 0.2\n",
        "\n",
        "# Functions to generate service times for each stage\n",
        "generate_order_time <- function() {\n",
        "  return(rnorm(1, mean = M_order, sd = SD_order))\n",
        "}\n",
        "\n",
        "generate_barista_service_time <- function() {\n",
        "  return(rnorm(1, mean = M_barista, sd = SD_barista))\n",
        "}"
      ],
      "metadata": {
        "id": "tysMxJu92RB-"
      },
      "execution_count": 9,
      "outputs": []
    },
    {
      "cell_type": "markdown",
      "source": [
        "### 3. Simulation Environment\n",
        "Definition of a trajectory consisting of ordering and service, setup of parallelized environment with resource (barista) and generator (customer)."
      ],
      "metadata": {
        "id": "tjSOIv_Q5s8p"
      }
    },
    {
      "cell_type": "code",
      "source": [
        "# For reproducibility\n",
        "set.seed(400)\n",
        "\n",
        "# Combined trajectory for ordering and barista service\n",
        "customer_trajectory <- trajectory(\"customer_trajectory\") %>%\n",
        "  # Ordering step\n",
        "  timeout(generate_order_time()) %>%\n",
        "  # Barista service step\n",
        "  select(\"Barista\") %>%\n",
        "  seize_selected() %>%\n",
        "  timeout(generate_barista_service_time()) %>%\n",
        "  release_selected()\n",
        "\n",
        "# Create sequence for customer arrivals per minute\n",
        "L_values <- seq(0.1, 3, 0.1)\n",
        "\n",
        "# Parallelize and assign to simmer environment\n",
        "envs <- mclapply(L_values, function(L) {\n",
        "  simmer(\"envs\") %>%\n",
        "    # Adding the barista resource\n",
        "    add_resource(\"Barista\", num_baristas) %>%\n",
        "    # Adding the customer generator\n",
        "    add_generator(\"Customer\", customer_trajectory, function() rexp(1, L)) %>%\n",
        "    # Run simulation 10_000 time units\n",
        "    run(10000) %>%\n",
        "    # Finalize the simulation\n",
        "    wrap()\n",
        "})"
      ],
      "metadata": {
        "id": "pQVLbmEW2Q-P"
      },
      "execution_count": 10,
      "outputs": []
    },
    {
      "cell_type": "markdown",
      "source": [
        "### 4. Monitoring Arrivals and Waiting Time\n",
        "Obtain the data on the arrivals in environment and calculate waiting time.\n",
        "\n",
        "For each replication, `mean_waiting_time` were calculated over each replication index `i`."
      ],
      "metadata": {
        "id": "qEoLKcii6-Nb"
      }
    },
    {
      "cell_type": "code",
      "source": [
        "# Monitoring arrivals of envs environment to obtain waiting time\n",
        "results <- get_mon_arrivals(envs) %>%\n",
        "  transform(waiting_time = end_time - start_time - activity_time)\n",
        "\n",
        "# Calculates mean waiting time for each replication\n",
        "mean_waiting_time <- c()\n",
        "for (i in 1:max(results$replication)) {\n",
        "  mean_waiting_time[i] <- mean(results$waiting_time[results$replication == i])\n",
        "}"
      ],
      "metadata": {
        "id": "76WUqLar2QrV"
      },
      "execution_count": 11,
      "outputs": []
    },
    {
      "cell_type": "markdown",
      "source": [
        "### 5. Mean Waiting Time vs Customer Arrivals\n",
        "Plotted the relation between mean waiting time and customer arrivals per minute."
      ],
      "metadata": {
        "id": "VojkxPee8Vom"
      }
    },
    {
      "cell_type": "code",
      "source": [
        "# Plot the relation between mean waiting time and customer arrivals per minute\n",
        "plot(L_values, mean_waiting_time, type=\"l\", col=\"blue\",\n",
        "     xlab=\"customers per minute\",\n",
        "     ylab=\"mean waiting time\")"
      ],
      "metadata": {
        "colab": {
          "base_uri": "https://localhost:8080/",
          "height": 437
        },
        "id": "z6HnjxqM8S8l",
        "outputId": "4285b340-9b15-4239-f260-a93c3821350d"
      },
      "execution_count": 12,
      "outputs": [
        {
          "output_type": "display_data",
          "data": {
            "text/plain": [
              "plot without title"
            ],
            "image/png": "[encoded data removed]"
          },
          "metadata": {
            "image/png": {
              "width": 420,
              "height": 420
            }
          }
        }
      ]
    },
    {
      "cell_type": "markdown",
      "source": [
        "### 6. Conclusion\n",
        "\n",
        "The plot generated shows that increasing number of customers per minute have an exponential impact over mean waiting time."
      ],
      "metadata": {
        "id": "4s6emrnO8yMP"
      }
    }
  ]
}